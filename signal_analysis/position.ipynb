{
 "cells": [
  {
   "cell_type": "markdown",
   "metadata": {},
   "source": [
    "凯利准则根据胜率和盈亏比计算最优仓位比例，公式为：f = (p * (b + 1) - 1) / b，其中 f 是仓位比例，p 是胜率，b 是盈亏比。"
   ]
  },
  {
   "cell_type": "code",
   "execution_count": 5,
   "metadata": {},
   "outputs": [
    {
     "name": "stdout",
     "output_type": "stream",
     "text": [
      "凯利准则: 仓位比例=24.05%, 仓位金额=$24049.89\n"
     ]
    }
   ],
   "source": [
    "def kelly_criterion(account_balance, win_probability, reward_risk_ratio):\n",
    "    \"\"\"\n",
    "    计算凯利准则仓位\n",
    "    :param account_balance: 账户总资金\n",
    "    :param win_probability: 胜率（0到1之间）\n",
    "    :param reward_risk_ratio: 盈亏比（正数）\n",
    "    :return: 仓位比例（%），仓位金额\n",
    "    \"\"\"\n",
    "    if not (0 <= win_probability <= 1) or reward_risk_ratio <= 0:\n",
    "        return 0, 0  # 无效输入返回0\n",
    "    f = (win_probability * (reward_risk_ratio + 1) - 1) / reward_risk_ratio\n",
    "    f = max(0, min(f, 1))  # 限制在0到1之间\n",
    "    position_size = account_balance * f\n",
    "    return f * 100, position_size\n",
    "\n",
    "# 示例\n",
    "account = 100000  # 账户资金\n",
    "win_prob = 0.471    # 胜率\n",
    "rr_ratio = 2.295   # 盈亏比\n",
    "\n",
    "percent, amount = kelly_criterion(account, win_prob, rr_ratio)\n",
    "print(f\"凯利准则: 仓位比例={percent:.2f}%, 仓位金额=${amount:.2f}\")"
   ]
  },
  {
   "cell_type": "markdown",
   "metadata": {},
   "source": [
    "基于波动率的仓位管理根据 ATR% 和止损倍数调整仓位，公式为：仓位大小 = (账户资金 × 风险比例) / (价格 × ATR% × 止损倍数)。"
   ]
  },
  {
   "cell_type": "code",
   "execution_count": 9,
   "metadata": {},
   "outputs": [
    {
     "name": "stdout",
     "output_type": "stream",
     "text": [
      "基于波动率: 仓位比例=19.49%, 仓位金额=$19493.18\n"
     ]
    }
   ],
   "source": [
    "def volatility_based_position(account_balance, risk_percent, price, atr_percent, stop_multiplier):\n",
    "    \"\"\"\n",
    "    计算基于波动率的仓位（使用ATR%）\n",
    "    :param account_balance: 账户总资金\n",
    "    :param risk_percent: 风险比例（%）\n",
    "    :param price: 当前价格\n",
    "    :param atr_percent: ATR%（%）\n",
    "    :param stop_multiplier: 止损倍数（通常1-2）\n",
    "    :return: 仓位比例（%），仓位金额\n",
    "    \"\"\"\n",
    "    if risk_percent <= 0 or price <= 0 or atr_percent <= 0 or stop_multiplier <= 0:\n",
    "        return 0, 0  # 无效输入\n",
    "    risk_amount = account_balance * (risk_percent / 100)  # 风险金额\n",
    "    stop_loss = price * (atr_percent / 100) * stop_multiplier  # 止损金额\n",
    "    shares = risk_amount / stop_loss  # 股数\n",
    "    position_size = shares * price  # 仓位金额\n",
    "    position_percent = (position_size / account_balance) * 100\n",
    "    return position_percent, position_size\n",
    "\n",
    "# 示例\n",
    "account = 100000  # 账户资金\n",
    "risk_pct = 2.0    # 承受风险%\n",
    "price = 49       # 股票价格\n",
    "atr_pct = 10.26  # ATR%\n",
    "stop_mult = 1     # 止损倍ATR%\n",
    "\n",
    "percent, amount = volatility_based_position(account, risk_pct, price, atr_pct, stop_mult)\n",
    "print(f\"基于波动率: 仓位比例={percent:.2f}%, 仓位金额=${amount:.2f}\")"
   ]
  },
  {
   "cell_type": "markdown",
   "metadata": {},
   "source": [
    "固定比例仓位管理根据固定风险比例和止损百分比计算仓位，公式为：仓位大小 = (账户资金 × 风险比例) / (价格 × 止损百分比)。"
   ]
  },
  {
   "cell_type": "code",
   "execution_count": 10,
   "metadata": {},
   "outputs": [
    {
     "name": "stdout",
     "output_type": "stream",
     "text": [
      "固定比例: 仓位比例=20.00%, 仓位金额=$20000.00\n"
     ]
    }
   ],
   "source": [
    "def fixed_fractional_position(account_balance, risk_percent, price, stop_loss_percent):\n",
    "    \"\"\"\n",
    "    计算固定比例仓位\n",
    "    :param account_balance: 账户总资金\n",
    "    :param risk_percent: 风险比例（%）\n",
    "    :param price: 当前价格\n",
    "    :param stop_loss_percent: 止损百分比（%）\n",
    "    :return: 仓位比例（%），仓位金额\n",
    "    \"\"\"\n",
    "    if risk_percent <= 0 or price <= 0 or stop_loss_percent <= 0:\n",
    "        return 0, 0  # 无效输入\n",
    "    risk_amount = account_balance * (risk_percent / 100)\n",
    "    stop_loss = price * (stop_loss_percent / 100)\n",
    "    shares = risk_amount / stop_loss\n",
    "    position_size = shares * price\n",
    "    position_percent = (position_size / account_balance) * 100\n",
    "    return position_percent, position_size\n",
    "\n",
    "# 示例\n",
    "account = 100000\n",
    "risk_pct = 1.0 # 风险比例（%）\n",
    "price = 49 # 当前价格\n",
    "stop_loss_pct = 5\n",
    "\n",
    "percent, amount = fixed_fractional_position(account, risk_pct, price, stop_loss_pct)\n",
    "print(f\"固定比例: 仓位比例={percent:.2f}%, 仓位金额=${amount:.2f}\")"
   ]
  }
 ],
 "metadata": {
  "kernelspec": {
   "display_name": "futu_trends",
   "language": "python",
   "name": "python3"
  },
  "language_info": {
   "codemirror_mode": {
    "name": "ipython",
    "version": 3
   },
   "file_extension": ".py",
   "mimetype": "text/x-python",
   "name": "python",
   "nbconvert_exporter": "python",
   "pygments_lexer": "ipython3",
   "version": "3.10.13"
  }
 },
 "nbformat": 4,
 "nbformat_minor": 2
}
